{
 "cells": [
  {
   "cell_type": "code",
   "execution_count": 2,
   "metadata": {},
   "outputs": [],
   "source": [
    "import os"
   ]
  },
  {
   "cell_type": "code",
   "execution_count": 3,
   "metadata": {},
   "outputs": [
    {
     "data": {
      "text/plain": [
       "'e:\\\\CS_proj\\\\research'"
      ]
     },
     "execution_count": 3,
     "metadata": {},
     "output_type": "execute_result"
    }
   ],
   "source": [
    "# if we want to see which folder we are in  then . \n",
    "# here we are in reserch foler\n",
    "\n",
    "%pwd"
   ]
  },
  {
   "cell_type": "code",
   "execution_count": 4,
   "metadata": {},
   "outputs": [],
   "source": [
    "# what ever we do we have to do in our project folder so , we step back to one folder by using. \n",
    "os.chdir(\"../\")"
   ]
  },
  {
   "cell_type": "code",
   "execution_count": 5,
   "metadata": {},
   "outputs": [
    {
     "data": {
      "text/plain": [
       "'e:\\\\CS_proj'"
      ]
     },
     "execution_count": 5,
     "metadata": {},
     "output_type": "execute_result"
    }
   ],
   "source": [
    "%pwd # see "
   ]
  },
  {
   "cell_type": "markdown",
   "metadata": {},
   "source": [
    "### data ingestion "
   ]
  },
  {
   "cell_type": "markdown",
   "metadata": {},
   "source": [
    " check these with config.yaml   data_ingestion: \n",
    " \n",
    "to read yaml file open constant folder and in  __init__.py there we read all .yaml file path "
   ]
  },
  {
   "cell_type": "code",
   "execution_count": 6,
   "metadata": {},
   "outputs": [],
   "source": [
    "# check these with config.yaml   data_ingestion: \n",
    "# to read yaml file open constant folder and in  __init__.py there we read all .yaml file path \n",
    "\n",
    "\n",
    "from dataclasses import dataclass\n",
    "from pathlib import Path\n",
    "\n",
    "\n",
    "@dataclass(frozen=True)\n",
    "class DataIngestionConfig:\n",
    "    root_dir: Path\n",
    "    source_URL: str\n",
    "    local_data_file: Path\n",
    "    unzip_dir: Path"
   ]
  },
  {
   "cell_type": "code",
   "execution_count": 8,
   "metadata": {},
   "outputs": [],
   "source": [
    "# now we call that constant file path here \n",
    "# & we import our utils function also \n",
    "\n",
    "\n",
    "from mlProject.constants import *\n",
    "from mlProject.utils.common import read_yaml, create_directories"
   ]
  },
  {
   "cell_type": "code",
   "execution_count": null,
   "metadata": {},
   "outputs": [],
   "source": [
    "# we will define class inside that we will read all the yaml files we calling it from constant and mention inside variable \n",
    "# then using read_yaml method we provide that var and it will return all config variables , and create artifacts folder \n",
    "\n",
    "# then we make get_data_ingestion_configration function here we are creating directories \n",
    "#  our method you only return ony 4 variable  bcoz here (DataIngestionConfig:)"
   ]
  },
  {
   "cell_type": "code",
   "execution_count": 9,
   "metadata": {},
   "outputs": [],
   "source": [
    "class ConfigurationManager:\n",
    "    def __init__(\n",
    "        self,\n",
    "        config_filepath = CONFIG_FILE_PATH,\n",
    "        params_filepath = PARAMS_FILE_PATH,\n",
    "        schema_filepath = SCHEMA_FILE_PATH):\n",
    "\n",
    "        self.config = read_yaml(config_filepath)\n",
    "        self.params = read_yaml(params_filepath)\n",
    "        self.schema = read_yaml(schema_filepath)\n",
    "\n",
    "        create_directories([self.config.artifacts_root])      #<- here we are creting artifacts root \n",
    "\n",
    "\n",
    "    \n",
    "    def get_data_ingestion_config(self) -> DataIngestionConfig:\n",
    "        config = self.config.data_ingestion                         # we are reading it from the config file so we can aceess all 4 \n",
    "\n",
    "        create_directories([config.root_dir])\n",
    "\n",
    "        data_ingestion_config = DataIngestionConfig(\n",
    "            root_dir=config.root_dir,\n",
    "            source_URL=config.source_URL,\n",
    "            local_data_file=config.local_data_file,\n",
    "            unzip_dir=config.unzip_dir \n",
    "        )\n",
    "\n",
    "        return data_ingestion_config"
   ]
  },
  {
   "cell_type": "code",
   "execution_count": null,
   "metadata": {},
   "outputs": [],
   "source": [
    "# now we update the components  (how it will ingest the data )\n",
    "# here we define a class called     class DataIngestion:\n",
    "# now we define method called    def download_file(self):   it will download data from url \n",
    "# now we have downloded data as zip file we unzip it   def extract_zip_file(self):"
   ]
  },
  {
   "cell_type": "code",
   "execution_count": 10,
   "metadata": {},
   "outputs": [],
   "source": [
    "import os\n",
    "import urllib.request as request                 # to download data from url \n",
    "import zipfile                                   # unzip data \n",
    "from mlProject import logger                     # for logging \n",
    "from mlProject.utils.common import get_size      # to see the file size "
   ]
  },
  {
   "cell_type": "code",
   "execution_count": 11,
   "metadata": {},
   "outputs": [],
   "source": [
    "class DataIngestion:\n",
    "    def __init__(self, config: DataIngestionConfig):   # it will get these from  def get_data_ingestion_config(self)\n",
    "        self.config = config\n",
    "\n",
    "\n",
    "    \n",
    "    def download_file(self):                             #<- this method is responsible for downloading data from url \n",
    "        if not os.path.exists(self.config.local_data_file):\n",
    "            filename, headers = request.urlretrieve(\n",
    "                url = self.config.source_URL,                                # read url \n",
    "                filename = self.config.local_data_file                          # take file fro local_data_file \n",
    "            )\n",
    "            logger.info(f\"{filename} download! with following info: \\n{headers}\")\n",
    "        else:\n",
    "            logger.info(f\"File already exists of size: {get_size(Path(self.config.local_data_file))}\")\n",
    "\n",
    "\n",
    "\n",
    "    def extract_zip_file(self):\n",
    "        \"\"\"\n",
    "        zip_file_path: str\n",
    "        Extracts the zip file into the data directory\n",
    "        Function returns None\n",
    "        \"\"\"\n",
    "        unzip_path = self.config.unzip_dir\n",
    "        os.makedirs(unzip_path, exist_ok=True)\n",
    "        with zipfile.ZipFile(self.config.local_data_file, 'r') as zip_ref:\n",
    "            zip_ref.extractall(unzip_path)\n",
    "  "
   ]
  },
  {
   "cell_type": "code",
   "execution_count": null,
   "metadata": {},
   "outputs": [],
   "source": [
    "# take file from local_data_file "
   ]
  },
  {
   "cell_type": "code",
   "execution_count": 12,
   "metadata": {},
   "outputs": [
    {
     "name": "stdout",
     "output_type": "stream",
     "text": [
      "[2024-06-28 11:24:14,033: INFO: common: yaml file: config\\config.yaml loaded successfully]\n",
      "[2024-06-28 11:24:14,037: INFO: common: yaml file: params.yaml loaded successfully]\n",
      "[2024-06-28 11:24:14,039: INFO: common: yaml file: schema.yaml loaded successfully]\n",
      "[2024-06-28 11:24:14,042: INFO: common: created directory at: artifacts]\n",
      "[2024-06-28 11:24:14,044: INFO: common: created directory at: artifacts/data_ingestion]\n",
      "[2024-06-28 11:24:16,522: INFO: 2366278714: artifacts/data_ingestion/data.zip download! with following info: \n",
      "Connection: close\n",
      "Content-Length: 23329\n",
      "Cache-Control: max-age=300\n",
      "Content-Security-Policy: default-src 'none'; style-src 'unsafe-inline'; sandbox\n",
      "Content-Type: application/zip\n",
      "ETag: \"c69888a4ae59bc5a893392785a938ccd4937981c06ba8a9d6a21aa52b4ab5b6e\"\n",
      "Strict-Transport-Security: max-age=31536000\n",
      "X-Content-Type-Options: nosniff\n",
      "X-Frame-Options: deny\n",
      "X-XSS-Protection: 1; mode=block\n",
      "X-GitHub-Request-Id: 4555:153C4:239C3C:2A1C0B:667E5005\n",
      "Accept-Ranges: bytes\n",
      "Date: Fri, 28 Jun 2024 05:54:15 GMT\n",
      "Via: 1.1 varnish\n",
      "X-Served-By: cache-bom4720-BOM\n",
      "X-Cache: MISS\n",
      "X-Cache-Hits: 0\n",
      "X-Timer: S1719554055.153782,VS0,VE366\n",
      "Vary: Authorization,Accept-Encoding,Origin\n",
      "Access-Control-Allow-Origin: *\n",
      "Cross-Origin-Resource-Policy: cross-origin\n",
      "X-Fastly-Request-ID: 1b848edefdd84785c477093ef37d30335da668c9\n",
      "Expires: Fri, 28 Jun 2024 05:59:15 GMT\n",
      "Source-Age: 0\n",
      "\n",
      "]\n"
     ]
    }
   ],
   "source": [
    "try:\n",
    "    config = ConfigurationManager()\n",
    "    data_ingestion_config = config.get_data_ingestion_config()\n",
    "    data_ingestion = DataIngestion(config=data_ingestion_config)\n",
    "    data_ingestion.download_file()\n",
    "    data_ingestion.extract_zip_file()\n",
    "except Exception as e:\n",
    "    raise e"
   ]
  },
  {
   "cell_type": "code",
   "execution_count": null,
   "metadata": {},
   "outputs": [],
   "source": [
    "# now we convert these .ipynb file into modular coding .py \n",
    "# step 1,2,3 is clear \n",
    "# step 4 update entity -> entity -> config_entity.py  \n",
    "\n",
    "# -- copy pest code \n",
    "# from dataclasses import dataclass\n",
    "# from pathlib import Path\n",
    "\n",
    "\n",
    "# @dataclass(frozen=True)\n",
    "# class DataIngestionConfig:\n",
    "#     root_dir: Path\n",
    "#     source_URL: str\n",
    "#     local_data_file: Path\n",
    "#     unzip_dir: Path \n",
    "\n",
    "\n",
    "# steps 5. Update the configuration manager in src config --> config->configraion.py \n",
    "#-- copy pest  all code from class ConfigurationManager:  \n",
    "\n",
    "\n",
    "#step 6. Update the components \n",
    "# in component folder create file data_ingestion.py --> copy pest all code class DataIngestion: \n",
    "\n",
    "\n",
    "# step 7. Update the pipeline \n",
    "# crete the file stage_01_data_ingestion.py --> copy \n",
    "\n",
    "\n",
    "# 8. Update the main.py \n",
    "# if you want to test the step7 pipeline  you have to with your main \n",
    "# and run  "
   ]
  },
  {
   "cell_type": "code",
   "execution_count": null,
   "metadata": {},
   "outputs": [],
   "source": [
    "# dont keep your .yaml file is empty "
   ]
  },
  {
   "cell_type": "code",
   "execution_count": null,
   "metadata": {},
   "outputs": [],
   "source": [
    "# now artifact folder is created see it in your directory inside it you have data_ingestion folder \n",
    "# inside it have data.zip                        # < -  it is zip data \n",
    "# then we have winequality-read.csv file         #  check \n"
   ]
  },
  {
   "cell_type": "code",
   "execution_count": null,
   "metadata": {},
   "outputs": [],
   "source": [
    "# next job is : Convert these code into modular coding "
   ]
  },
  {
   "cell_type": "code",
   "execution_count": null,
   "metadata": {},
   "outputs": [],
   "source": [
    "# now we will follow follwing step here \n",
    "# first we do work with noteboom if it work fine then we pest it to .py \n",
    "\n",
    "## Workflows\n",
    "\n",
    "# 1. Update config.yaml\n",
    "# 2. Update schema.yaml\n",
    "# 3. Update params.yaml\n",
    "# 4. Update the entity            #<-- update interm of .py file(modular) in entity folder config_entity.py just copy pest  .ipynb code in .py \n",
    "# 5. Update the configuration manager in src config       # copy pest here to config --> configuration.py \n",
    "\n",
    "# 6. Update the components   #<-- for these create a new file called data_ingestion.py --> copy pest \n",
    "# 7. Update the pipeline    # in pipeline  folder  create new file called stage_01_data_ingestion.py  -- > define stage name , here code dont copy pest  \n",
    "# 8. Update the main.py  # if the abouve file you need to test it you need to add it your main.py  to test it delete the artifacts \n",
    "# 9. Update the app.py\n"
   ]
  }
 ],
 "metadata": {
  "kernelspec": {
   "display_name": "Python 3",
   "language": "python",
   "name": "python3"
  },
  "language_info": {
   "codemirror_mode": {
    "name": "ipython",
    "version": 3
   },
   "file_extension": ".py",
   "mimetype": "text/x-python",
   "name": "python",
   "nbconvert_exporter": "python",
   "pygments_lexer": "ipython3",
   "version": "3.9.19"
  }
 },
 "nbformat": 4,
 "nbformat_minor": 2
}
